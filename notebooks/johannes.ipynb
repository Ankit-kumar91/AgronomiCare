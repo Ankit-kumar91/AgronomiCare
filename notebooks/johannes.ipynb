{
 "cells": [
  {
   "cell_type": "markdown",
   "metadata": {},
   "source": [
    "# Resize images"
   ]
  },
  {
   "cell_type": "markdown",
   "metadata": {},
   "source": [
    "Since all of our potential pretrained models require images in the size 224x244 pixels, we have to crop all images that are not in the correct ratio of 1:1 and then resize all images to 224x224 pixels."
   ]
  },
  {
   "cell_type": "code",
   "execution_count": 65,
   "metadata": {},
   "outputs": [],
   "source": [
    "import numpy as np\n",
    "import os\n",
    "import PIL\n",
    "import PIL.Image\n",
    "import tensorflow as tf\n",
    "from tensorflow import keras\n",
    "from tensorflow.keras.preprocessing.image import load_img"
   ]
  },
  {
   "cell_type": "code",
   "execution_count": 71,
   "metadata": {},
   "outputs": [
    {
     "ename": "UnidentifiedImageError",
     "evalue": "cannot identify image file <_io.BytesIO object at 0x293734400>",
     "output_type": "error",
     "traceback": [
      "\u001b[0;31m---------------------------------------------------------------------------\u001b[0m",
      "\u001b[0;31mUnidentifiedImageError\u001b[0m                    Traceback (most recent call last)",
      "Cell \u001b[0;32mIn[71], line 22\u001b[0m\n\u001b[1;32m     19\u001b[0m \u001b[38;5;28;01mfor\u001b[39;00m file_name \u001b[38;5;129;01min\u001b[39;00m files:\n\u001b[1;32m     20\u001b[0m     \u001b[38;5;66;03m# Load the image file using Keras\u001b[39;00m\n\u001b[1;32m     21\u001b[0m     img_path \u001b[38;5;241m=\u001b[39m os\u001b[38;5;241m.\u001b[39mpath\u001b[38;5;241m.\u001b[39mjoin(root, file_name)\n\u001b[0;32m---> 22\u001b[0m     img \u001b[38;5;241m=\u001b[39m \u001b[43mload_img\u001b[49m\u001b[43m(\u001b[49m\u001b[43mimg_path\u001b[49m\u001b[43m)\u001b[49m\n\u001b[1;32m     24\u001b[0m     \u001b[38;5;66;03m# Preprocess the image by converting to array and expanding dimensions\u001b[39;00m\n\u001b[1;32m     25\u001b[0m     img_array \u001b[38;5;241m=\u001b[39m img_to_array(img)\n",
      "File \u001b[0;32m~/ds-bootcamp/AgronomiCare/.venv/lib/python3.11/site-packages/keras/src/utils/image_utils.py:423\u001b[0m, in \u001b[0;36mload_img\u001b[0;34m(path, grayscale, color_mode, target_size, interpolation, keep_aspect_ratio)\u001b[0m\n\u001b[1;32m    421\u001b[0m         path \u001b[38;5;241m=\u001b[39m \u001b[38;5;28mstr\u001b[39m(path\u001b[38;5;241m.\u001b[39mresolve())\n\u001b[1;32m    422\u001b[0m     \u001b[38;5;28;01mwith\u001b[39;00m \u001b[38;5;28mopen\u001b[39m(path, \u001b[38;5;124m\"\u001b[39m\u001b[38;5;124mrb\u001b[39m\u001b[38;5;124m\"\u001b[39m) \u001b[38;5;28;01mas\u001b[39;00m f:\n\u001b[0;32m--> 423\u001b[0m         img \u001b[38;5;241m=\u001b[39m \u001b[43mpil_image\u001b[49m\u001b[38;5;241;43m.\u001b[39;49m\u001b[43mopen\u001b[49m\u001b[43m(\u001b[49m\u001b[43mio\u001b[49m\u001b[38;5;241;43m.\u001b[39;49m\u001b[43mBytesIO\u001b[49m\u001b[43m(\u001b[49m\u001b[43mf\u001b[49m\u001b[38;5;241;43m.\u001b[39;49m\u001b[43mread\u001b[49m\u001b[43m(\u001b[49m\u001b[43m)\u001b[49m\u001b[43m)\u001b[49m\u001b[43m)\u001b[49m\n\u001b[1;32m    424\u001b[0m \u001b[38;5;28;01melse\u001b[39;00m:\n\u001b[1;32m    425\u001b[0m     \u001b[38;5;28;01mraise\u001b[39;00m \u001b[38;5;167;01mTypeError\u001b[39;00m(\n\u001b[1;32m    426\u001b[0m         \u001b[38;5;124mf\u001b[39m\u001b[38;5;124m\"\u001b[39m\u001b[38;5;124mpath should be path-like or io.BytesIO, not \u001b[39m\u001b[38;5;132;01m{\u001b[39;00m\u001b[38;5;28mtype\u001b[39m(path)\u001b[38;5;132;01m}\u001b[39;00m\u001b[38;5;124m\"\u001b[39m\n\u001b[1;32m    427\u001b[0m     )\n",
      "File \u001b[0;32m~/ds-bootcamp/AgronomiCare/.venv/lib/python3.11/site-packages/PIL/Image.py:3309\u001b[0m, in \u001b[0;36mopen\u001b[0;34m(fp, mode, formats)\u001b[0m\n\u001b[1;32m   3307\u001b[0m     warnings\u001b[38;5;241m.\u001b[39mwarn(message)\n\u001b[1;32m   3308\u001b[0m msg \u001b[38;5;241m=\u001b[39m \u001b[38;5;124m\"\u001b[39m\u001b[38;5;124mcannot identify image file \u001b[39m\u001b[38;5;132;01m%r\u001b[39;00m\u001b[38;5;124m\"\u001b[39m \u001b[38;5;241m%\u001b[39m (filename \u001b[38;5;28;01mif\u001b[39;00m filename \u001b[38;5;28;01melse\u001b[39;00m fp)\n\u001b[0;32m-> 3309\u001b[0m \u001b[38;5;28;01mraise\u001b[39;00m UnidentifiedImageError(msg)\n",
      "\u001b[0;31mUnidentifiedImageError\u001b[0m: cannot identify image file <_io.BytesIO object at 0x293734400>"
     ]
    }
   ],
   "source": [
    "## try this\n",
    "import os\n",
    "import tensorflow as tf\n",
    "from tensorflow import keras\n",
    "from tensorflow.keras.preprocessing.image import load_img, img_to_array, array_to_img\n",
    "from tensorflow.image import crop_and_resize\n",
    "\n",
    "# Define the input folder containing subfolders of images\n",
    "input_folder = '../data/images'\n",
    "\n",
    "# Define the output folder for storing the cropped and resized images\n",
    "output_folder = '../data/preprocessed_images/'\n",
    "\n",
    "# Define the target size for cropping and resizing\n",
    "target_size = (224, 224)\n",
    "\n",
    "# Load and preprocess images\n",
    "for root, dirs, files in os.walk(input_folder):\n",
    "    for file_name in files:\n",
    "        # Load the image file using Keras\n",
    "        img_path = os.path.join(root, file_name)\n",
    "        img = load_img(img_path)\n",
    "\n",
    "        # Preprocess the image by converting to array and expanding dimensions\n",
    "        img_array = img_to_array(img)\n",
    "        img_array = tf.expand_dims(img_array, 0)\n",
    "\n",
    "        # Crop and resize the image using tf.image.crop_and_resize\n",
    "        cropped_img_array = crop_and_resize(\n",
    "            img_array,\n",
    "            boxes=[[0, 0, 1, 1]],  # Crop the entire image\n",
    "            box_indices=[0],\n",
    "            crop_size=target_size\n",
    "        )\n",
    "\n",
    "        # Convert the cropped and resized image array back to an image object\n",
    "        cropped_img = array_to_img(cropped_img_array[0])\n",
    "\n",
    "        # Save the cropped and resized image to the output folder\n",
    "        output_path = os.path.join(output_folder, file_name)\n",
    "        cropped_img.save(output_path)\n",
    "\n",
    "        print(f\"Saved cropped and resized image: {output_path}\")"
   ]
  },
  {
   "cell_type": "code",
   "execution_count": 86,
   "metadata": {},
   "outputs": [],
   "source": [
    "import PIL\n",
    "from PIL import UnidentifiedImageError\n",
    "import glob\n",
    "\n",
    "imgs_ = glob.glob(\"../data/images/*/*.jpg\")\n",
    "\n",
    "for img in imgs_:\n",
    "    try:\n",
    "        img = PIL.Image.open(img)\n",
    "    except PIL.UnidentifiedImageError:\n",
    "        print(img)"
   ]
  },
  {
   "cell_type": "code",
   "execution_count": 82,
   "metadata": {},
   "outputs": [
    {
     "name": "stdout",
     "output_type": "stream",
     "text": [
      ": 1\n",
      "jpg: 93336\n",
      "jpeg: 2522\n",
      "png: 1\n"
     ]
    }
   ],
   "source": [
    "import os\n",
    "\n",
    "file_types = {}\n",
    "\n",
    "def count_file_types(folder): \n",
    "    for root, dirs, files in os.walk(folder): \n",
    "        for file in files: # Get the file extension \n",
    "            file_extension = os.path.splitext(file)[1][1:].lower()\n",
    "            file_types[file_extension] = file_types.get(file_extension, 0) + 1\n",
    "\n",
    "folder_path = '../data/images'\n",
    "count_file_types(folder_path)\n",
    "\n",
    "for file_type, count in file_types.items(): print(f\"{file_type}: {count}\")"
   ]
  },
  {
   "cell_type": "code",
   "execution_count": 34,
   "metadata": {},
   "outputs": [],
   "source": [
    "import sys\n",
    "sys.path.append('../modeling') # adds the folder 'modeling' where our srips are stored to the path\n",
    "\n",
    "from preprocessing import img_dataset_from_dir_and_split_train_val as set_split_train"
   ]
  },
  {
   "cell_type": "markdown",
   "metadata": {},
   "source": [
    "README\n",
    "- We use tensorflow-metal, on other os you need to use the gpu either with cuda for nvidia or rocm for amd\n"
   ]
  }
 ],
 "metadata": {
  "kernelspec": {
   "display_name": ".venv",
   "language": "python",
   "name": "python3"
  },
  "language_info": {
   "codemirror_mode": {
    "name": "ipython",
    "version": 3
   },
   "file_extension": ".py",
   "mimetype": "text/x-python",
   "name": "python",
   "nbconvert_exporter": "python",
   "pygments_lexer": "ipython3",
   "version": "3.11.3"
  }
 },
 "nbformat": 4,
 "nbformat_minor": 2
}
