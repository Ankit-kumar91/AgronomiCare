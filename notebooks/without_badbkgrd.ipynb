{
 "cells": [
  {
   "cell_type": "code",
   "execution_count": 1,
   "metadata": {},
   "outputs": [],
   "source": [
    "import os\n",
    "import pandas as pd\n",
    "import matplotlib.pyplot as plt\n",
    "import seaborn as sns\n",
    "from  PIL import Image\n",
    "import numpy as np\n",
    "from tensorflow.keras import Input, Model\n",
    "from tensorflow.keras.applications.efficientnet import EfficientNetB0\n",
    "from tensorflow.keras.layers import Dense, GlobalAveragePooling2D\n",
    "from tensorflow.keras.optimizers import Adam\n",
    "from tensorflow.keras.utils import split_dataset\n",
    "import tensorflow as tf\n",
    "from tensorflow import keras\n",
    "\n",
    "\n",
    "from tensorflow.keras.preprocessing.image import ImageDataGenerator\n",
    "#from tensorflow.keras.applications import EfficientNetB0\n",
    "from sklearn.model_selection import train_test_split\n",
    "\n",
    "\n",
    "\n",
    "\n",
    "#dataset_path = '../data/images/'\n",
    "RSEED=42"
   ]
  },
  {
   "cell_type": "code",
   "execution_count": null,
   "metadata": {},
   "outputs": [],
   "source": [
    "# copy the contents of images folder, excluding Cassava, Rice, Potato and Sugercane\n",
    "\n",
    "import os\n",
    "import shutil\n",
    "\n",
    "# Source and destination folder paths\n",
    "source_folder = '../data/images_data'\n",
    "destination_folder = '../data/images'\n",
    "\n",
    "# Create destination folder if it doesn't exist\n",
    "if not os.path.exists(destination_folder):\n",
    "    os.makedirs(destination_folder)\n",
    "\n",
    "# List of prefixes to exclude\n",
    "excluded_prefixes = ['Cassava', 'Rice', 'Potato', 'Sugercane']\n",
    "\n",
    "# Function to check if the name starts with any of the excluded prefixes\n",
    "def is_excluded(name):\n",
    "    for prefix in excluded_prefixes:\n",
    "        if name.startswith(prefix):\n",
    "            return True\n",
    "    return False\n",
    "\n",
    "# Iterate over files in the source folder\n",
    "for item in os.listdir(source_folder):\n",
    "    source_item = os.path.join(source_folder, item)\n",
    "    destination_item = os.path.join(destination_folder, item)\n",
    "    \n",
    "    # Check if the item is a file\n",
    "    if os.path.isfile(source_item):\n",
    "        # Check if the file name starts with an excluded prefix\n",
    "        if not is_excluded(item):\n",
    "            # Copy the file to the destination folder\n",
    "            shutil.copy(source_item, destination_item)\n",
    "    # Check if the item is a folder\n",
    "    elif os.path.isdir(source_item):\n",
    "        # Check if the folder name starts with an excluded prefix\n",
    "        if not is_excluded(item):\n",
    "            # Copy the folder recursively to the destination folder\n",
    "            shutil.copytree(source_item, destination_item)\n",
    "\n",
    "print(\"Contents copied successfully!\")\n"
   ]
  },
  {
   "cell_type": "code",
   "execution_count": 4,
   "metadata": {},
   "outputs": [
    {
     "data": {
      "text/html": [
       "<div>\n",
       "<style scoped>\n",
       "    .dataframe tbody tr th:only-of-type {\n",
       "        vertical-align: middle;\n",
       "    }\n",
       "\n",
       "    .dataframe tbody tr th {\n",
       "        vertical-align: top;\n",
       "    }\n",
       "\n",
       "    .dataframe thead th {\n",
       "        text-align: right;\n",
       "    }\n",
       "</style>\n",
       "<table border=\"1\" class=\"dataframe\">\n",
       "  <thead>\n",
       "    <tr style=\"text-align: right;\">\n",
       "      <th></th>\n",
       "      <th>Image_Path</th>\n",
       "      <th>Class</th>\n",
       "    </tr>\n",
       "  </thead>\n",
       "  <tbody>\n",
       "    <tr>\n",
       "      <th>0</th>\n",
       "      <td>../data/images/Tomato___spider_mites/fa05ccd2-...</td>\n",
       "      <td>Tomato___spider_mites</td>\n",
       "    </tr>\n",
       "    <tr>\n",
       "      <th>1</th>\n",
       "      <td>../data/images/Tomato___spider_mites/fd3b6292-...</td>\n",
       "      <td>Tomato___spider_mites</td>\n",
       "    </tr>\n",
       "    <tr>\n",
       "      <th>2</th>\n",
       "      <td>../data/images/Tomato___spider_mites/82306885-...</td>\n",
       "      <td>Tomato___spider_mites</td>\n",
       "    </tr>\n",
       "    <tr>\n",
       "      <th>3</th>\n",
       "      <td>../data/images/Tomato___spider_mites/9c7f0991-...</td>\n",
       "      <td>Tomato___spider_mites</td>\n",
       "    </tr>\n",
       "    <tr>\n",
       "      <th>4</th>\n",
       "      <td>../data/images/Tomato___spider_mites/d7c5cad4-...</td>\n",
       "      <td>Tomato___spider_mites</td>\n",
       "    </tr>\n",
       "    <tr>\n",
       "      <th>...</th>\n",
       "      <td>...</td>\n",
       "      <td>...</td>\n",
       "    </tr>\n",
       "    <tr>\n",
       "      <th>57689</th>\n",
       "      <td>../data/images/Soybean___healthy/57c18b39-2a33...</td>\n",
       "      <td>Soybean___healthy</td>\n",
       "    </tr>\n",
       "    <tr>\n",
       "      <th>57690</th>\n",
       "      <td>../data/images/Soybean___healthy/4fdc663e-a8ea...</td>\n",
       "      <td>Soybean___healthy</td>\n",
       "    </tr>\n",
       "    <tr>\n",
       "      <th>57691</th>\n",
       "      <td>../data/images/Soybean___healthy/df807f13-078b...</td>\n",
       "      <td>Soybean___healthy</td>\n",
       "    </tr>\n",
       "    <tr>\n",
       "      <th>57692</th>\n",
       "      <td>../data/images/Soybean___healthy/60bf9858-951a...</td>\n",
       "      <td>Soybean___healthy</td>\n",
       "    </tr>\n",
       "    <tr>\n",
       "      <th>57693</th>\n",
       "      <td>../data/images/Soybean___healthy/c7f4b7b2-b13c...</td>\n",
       "      <td>Soybean___healthy</td>\n",
       "    </tr>\n",
       "  </tbody>\n",
       "</table>\n",
       "<p>57694 rows × 2 columns</p>\n",
       "</div>"
      ],
      "text/plain": [
       "                                              Image_Path   \n",
       "0      ../data/images/Tomato___spider_mites/fa05ccd2-...  \\\n",
       "1      ../data/images/Tomato___spider_mites/fd3b6292-...   \n",
       "2      ../data/images/Tomato___spider_mites/82306885-...   \n",
       "3      ../data/images/Tomato___spider_mites/9c7f0991-...   \n",
       "4      ../data/images/Tomato___spider_mites/d7c5cad4-...   \n",
       "...                                                  ...   \n",
       "57689  ../data/images/Soybean___healthy/57c18b39-2a33...   \n",
       "57690  ../data/images/Soybean___healthy/4fdc663e-a8ea...   \n",
       "57691  ../data/images/Soybean___healthy/df807f13-078b...   \n",
       "57692  ../data/images/Soybean___healthy/60bf9858-951a...   \n",
       "57693  ../data/images/Soybean___healthy/c7f4b7b2-b13c...   \n",
       "\n",
       "                       Class  \n",
       "0      Tomato___spider_mites  \n",
       "1      Tomato___spider_mites  \n",
       "2      Tomato___spider_mites  \n",
       "3      Tomato___spider_mites  \n",
       "4      Tomato___spider_mites  \n",
       "...                      ...  \n",
       "57689      Soybean___healthy  \n",
       "57690      Soybean___healthy  \n",
       "57691      Soybean___healthy  \n",
       "57692      Soybean___healthy  \n",
       "57693      Soybean___healthy  \n",
       "\n",
       "[57694 rows x 2 columns]"
      ]
     },
     "execution_count": 4,
     "metadata": {},
     "output_type": "execute_result"
    }
   ],
   "source": [
    "#import data\n",
    "\n",
    "data = []\n",
    "\n",
    "# Specify the path to your dataset\n",
    "dataset_path = '../data/images/'\n",
    "\n",
    "# Iterate through each plant folder\n",
    "for plant_class in os.listdir(dataset_path):\n",
    "    class_path = os.path.join(dataset_path, plant_class)\n",
    "    \n",
    "    # Iterate through each image in the plant folder\n",
    "    for image_file in os.listdir(class_path):\n",
    "        image_path = os.path.join(class_path, image_file)\n",
    "        data.append({'Image_Path': image_path, 'Class': plant_class})\n",
    "\n",
    "# Create a DataFrame from the list of dictionaries\n",
    "df = pd.DataFrame(data) #.reset_index(drop=True, inplace=True)\n",
    "\n",
    "df"
   ]
  },
  {
   "cell_type": "code",
   "execution_count": 6,
   "metadata": {},
   "outputs": [
    {
     "name": "stdout",
     "output_type": "stream",
     "text": [
      "Subfolder Grape_leaf_blight doesn't exist in ../data/images/.\n"
     ]
    }
   ],
   "source": [
    "def rename_subfolder(parent_dir, subfolder_name, new_name):\n",
    "    subfolder_path = os.path.join(parent_dir, subfolder_name)\n",
    "    new_path = os.path.join(parent_dir, new_name)\n",
    "\n",
    "    # Check if the subfolder exists\n",
    "    if os.path.exists(subfolder_path):\n",
    "        # Rename the subfolder\n",
    "        os.rename(subfolder_path, new_path)\n",
    "        print(f\"{subfolder_name} renamed to {new_name} successfully.\")\n",
    "    else:\n",
    "        print(f\"Subfolder {subfolder_name} doesn't exist in {parent_dir}.\")\n",
    "\n",
    "# Example usage\n",
    "parent_directory = \"../data/images/\"\n",
    "subfolder_name = \"Grape_leaf_blight\"\n",
    "new_name = \"Grape___leaf_blight\"\n",
    "\n",
    "rename_subfolder(parent_directory, subfolder_name, new_name)"
   ]
  },
  {
   "cell_type": "code",
   "execution_count": 7,
   "metadata": {},
   "outputs": [
    {
     "name": "stdout",
     "output_type": "stream",
     "text": [
      "<class 'pandas.core.frame.DataFrame'>\n",
      "RangeIndex: 57694 entries, 0 to 57693\n",
      "Data columns (total 2 columns):\n",
      " #   Column      Non-Null Count  Dtype \n",
      "---  ------      --------------  ----- \n",
      " 0   Image_Path  57694 non-null  object\n",
      " 1   Class       57694 non-null  object\n",
      "dtypes: object(2)\n",
      "memory usage: 901.6+ KB\n"
     ]
    }
   ],
   "source": [
    "df.info()"
   ]
  },
  {
   "cell_type": "code",
   "execution_count": 8,
   "metadata": {},
   "outputs": [
    {
     "name": "stdout",
     "output_type": "stream",
     "text": [
      "plant_type\n",
      "Tomato         18160\n",
      "Apple           6542\n",
      "Grape           6232\n",
      "Orange          5507\n",
      "Soybean         5090\n",
      "Corn            3852\n",
      "Peach           2657\n",
      "Bell_pepper     2475\n",
      "Cherry          1906\n",
      "Squash          1835\n",
      "Strawberry      1565\n",
      "Blueberry       1502\n",
      "Raspberry        371\n",
      "Name: count, dtype: int64\n"
     ]
    }
   ],
   "source": [
    "# Extract plant types from class names\n",
    "df['plant_type'] = df['Class'].apply(lambda x: x.split('___')[0])\n",
    "\n",
    "# Count the occurrences of each plant type\n",
    "plant_type_counts = df['plant_type'].value_counts()\n",
    "\n",
    "# Display the count of each plant type\n",
    "print(plant_type_counts)\n",
    "#plant_type_counts"
   ]
  },
  {
   "cell_type": "code",
   "execution_count": 9,
   "metadata": {},
   "outputs": [
    {
     "name": "stdout",
     "output_type": "stream",
     "text": [
      "Problematic Rows:\n",
      "Empty DataFrame\n",
      "Columns: [Image_Path, Class, plant_type]\n",
      "Index: []\n"
     ]
    }
   ],
   "source": [
    "problematic_rows = df[df['Class'].apply(lambda x: len(x.split('___')) < 2)]\n",
    "print(\"Problematic Rows:\")\n",
    "print(problematic_rows)"
   ]
  },
  {
   "cell_type": "code",
   "execution_count": 10,
   "metadata": {},
   "outputs": [],
   "source": [
    "\n",
    "#problematic_rows = df[df['Class'].str.contains('Grape_leaf_blight')]\n",
    "df['Class'] = df['Class'].replace('Grape_leaf_blight', 'Grape___leaf_blight', regex=True)\n"
   ]
  },
  {
   "cell_type": "code",
   "execution_count": 11,
   "metadata": {},
   "outputs": [
    {
     "name": "stdout",
     "output_type": "stream",
     "text": [
      "disease_type\n",
      "healthy                 16739\n",
      "citrus_greening          5507\n",
      "bacterial_spot           5421\n",
      "leaf_curl                5357\n",
      "powdery_mildew           2887\n",
      "black_measles            2271\n",
      "late_blight              1909\n",
      "black_rot                1801\n",
      "septoria_leaf_spot       1771\n",
      "spider_mites             1676\n",
      "target_spot              1404\n",
      "rust                     1241\n",
      "scab                     1222\n",
      "common_rust              1192\n",
      "leaf_scorch              1109\n",
      "isariopsis_leaf_spot     1076\n",
      "early_blight             1000\n",
      "northern_leaf_blight      985\n",
      "leaf_mold                 952\n",
      "gray_leaf_spot            513\n",
      "leaf_blight               400\n",
      "gray_spot                 395\n",
      "mosaic_virus              373\n",
      "alternaria_leaf_spot      278\n",
      "brown_spot                215\n",
      "Name: count, dtype: int64\n"
     ]
    }
   ],
   "source": [
    "# Extract disease types from class names\n",
    "df['disease_type'] = df['Class'].apply(lambda x: x.split('___')[1])\n",
    "\n",
    "# Count the occurrences of each disease type\n",
    "disease_type_counts = df['disease_type'].value_counts()\n",
    "\n",
    "# Display the count of each disease type\n",
    "#print(disease_type_counts)\n",
    "print(disease_type_counts)"
   ]
  },
  {
   "cell_type": "code",
   "execution_count": 12,
   "metadata": {},
   "outputs": [
    {
     "data": {
      "text/plain": [
       "25"
      ]
     },
     "execution_count": 12,
     "metadata": {},
     "output_type": "execute_result"
    }
   ],
   "source": [
    "df['disease_type'].nunique()"
   ]
  },
  {
   "cell_type": "code",
   "execution_count": 13,
   "metadata": {},
   "outputs": [
    {
     "data": {
      "text/plain": [
       "['alternaria_leaf_spot',\n",
       " 'bacterial_spot',\n",
       " 'black_measles',\n",
       " 'black_rot',\n",
       " 'brown_spot',\n",
       " 'citrus_greening',\n",
       " 'common_rust',\n",
       " 'early_blight',\n",
       " 'gray_leaf_spot',\n",
       " 'gray_spot',\n",
       " 'healthy',\n",
       " 'isariopsis_leaf_spot',\n",
       " 'late_blight',\n",
       " 'leaf_blight',\n",
       " 'leaf_curl',\n",
       " 'leaf_mold',\n",
       " 'leaf_scorch',\n",
       " 'mosaic_virus',\n",
       " 'northern_leaf_blight',\n",
       " 'powdery_mildew',\n",
       " 'rust',\n",
       " 'scab',\n",
       " 'septoria_leaf_spot',\n",
       " 'spider_mites',\n",
       " 'target_spot']"
      ]
     },
     "execution_count": 13,
     "metadata": {},
     "output_type": "execute_result"
    }
   ],
   "source": [
    "labels = np.unique(df['disease_type']).tolist()\n",
    "\n",
    "labels"
   ]
  },
  {
   "cell_type": "code",
   "execution_count": 14,
   "metadata": {},
   "outputs": [],
   "source": [
    "#import os\n",
    "import shutil\n",
    "from sklearn.model_selection import train_test_split\n",
    "\n",
    "# Split data into features (image paths) and labels (classes)\n",
    "X = df['Image_Path']\n",
    "y = df['disease_type']\n",
    "\n",
    "# Split data into training and testing sets\n",
    "X_train, X_test, y_train, y_test = train_test_split(X, y, test_size=0.2, random_state=RSEED)\n",
    "\n",
    "# Define paths for the training and testing data folders\n",
    "train_dir = '../data/train/'\n",
    "test_dir = '../data/test/'\n",
    "\n",
    "# Create directories if they don't exist\n",
    "if not os.path.exists(train_dir):\n",
    "    os.makedirs(train_dir)\n",
    "if not os.path.exists(test_dir):\n",
    "    os.makedirs(test_dir)\n",
    "\n",
    "# Copy images to the training folder\n",
    "for image_path, label in zip(X_train, y_train):\n",
    "    dest_folder = os.path.join(train_dir, label)\n",
    "    if not os.path.exists(dest_folder):\n",
    "        os.makedirs(dest_folder)\n",
    "    shutil.copy(image_path, dest_folder)\n",
    "\n",
    "# Copy images to the testing folder\n",
    "for image_path, label in zip(X_test, y_test):\n",
    "    dest_folder = os.path.join(test_dir, label)\n",
    "    if not os.path.exists(dest_folder):\n",
    "        os.makedirs(dest_folder)\n",
    "    shutil.copy(image_path, dest_folder)"
   ]
  }
 ],
 "metadata": {
  "kernelspec": {
   "display_name": ".venv",
   "language": "python",
   "name": "python3"
  },
  "language_info": {
   "codemirror_mode": {
    "name": "ipython",
    "version": 3
   },
   "file_extension": ".py",
   "mimetype": "text/x-python",
   "name": "python",
   "nbconvert_exporter": "python",
   "pygments_lexer": "ipython3",
   "version": "3.11.3"
  }
 },
 "nbformat": 4,
 "nbformat_minor": 2
}
