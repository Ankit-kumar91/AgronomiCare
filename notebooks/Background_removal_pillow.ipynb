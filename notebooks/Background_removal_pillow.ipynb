{
 "cells": [
  {
   "cell_type": "markdown",
   "metadata": {},
   "source": [
    "## Removing backgrounds from existing Dataset"
   ]
  },
  {
   "cell_type": "code",
   "execution_count": 2,
   "metadata": {},
   "outputs": [],
   "source": [
    "# Import Required Modules\n",
    "\n",
    "from rembg import remove \n",
    "from PIL import Image\n",
    "import os"
   ]
  },
  {
   "cell_type": "markdown",
   "metadata": {},
   "source": [
    "Before continuing, make sure to drag and drop virus_mosaic in mosaic_disease"
   ]
  },
  {
   "cell_type": "code",
   "execution_count": 6,
   "metadata": {},
   "outputs": [],
   "source": [
    "# Define input and output paths\n",
    "input_path_train = '../data/train/'\n",
    "output_path_train = '../data/modified/train/'\n",
    "\n",
    "input_path_test = '../data/test/'\n",
    "output_path_test = '../data/modified/test/'\n"
   ]
  },
  {
   "cell_type": "code",
   "execution_count": 3,
   "metadata": {},
   "outputs": [],
   "source": [
    "session = new_session()\n",
    "\n",
    "# Define the input directory\n",
    "input_directory_test = '../data/train/'\n",
    "\n",
    "# Define the output directory\n",
    "output_directory_test = '../data/modified/train/'\n",
    "\n",
    "# Walk through all directories and subdirectories\n",
    "for x in next(os.walk(input_directory))[1]:\n",
    "    for filename in os.listdir(os.path.join(input_directory, x)):\n",
    "        # Construct the full file path for input and output files\n",
    "        input_filepath = os.path.join(input_directory, x, filename)\n",
    "        output_filepath = os.path.join(output_directory, x, filename)\n",
    "        \n",
    "        # Ensure the output directory exists, if not, create it\n",
    "        os.makedirs(os.path.dirname(output_filepath), exist_ok=True)\n",
    "        \n",
    "        # Convert to Path objects for convenience\n",
    "        input_path = Path(input_filepath)\n",
    "        output_path = Path(output_filepath)\n",
    "        \n",
    "        # Check if the output file already exists\n",
    "        if output_path.is_file():\n",
    "            print(f\"Output file {output_path} already exists. Skipping...\")\n",
    "            continue\n",
    "        \n",
    "        # Open the input image\n",
    "        with open(input_filepath, 'rb') as input_file:\n",
    "            input_data = input_file.read()\n",
    "            # Perform your operation (e.g., using remove function)\n",
    "            output_data = remove(input_data, session=session)\n",
    "        \n",
    "        # Write the processed data to the output file\n",
    "        with open(output_filepath, 'wb') as output_file:\n",
    "            output_file.write(output_data)\n"
   ]
  },
  {
   "cell_type": "code",
   "execution_count": 39,
   "metadata": {},
   "outputs": [],
   "source": [
    "from pathlib import Path\n",
    "from rembg import remove, new_session"
   ]
  },
  {
   "cell_type": "code",
   "execution_count": 62,
   "metadata": {},
   "outputs": [
    {
     "name": "stdout",
     "output_type": "stream",
     "text": [
      "Input folders: ['../data/train/mosaic', '../data/train/late_blight', '../data/train/septoria_leaf_spot', '../data/train/leaf_curl', '../data/train/powdery_mildew', '../data/train/healthy', '../data/train/brown_streak_disease', '../data/train/early_blight', '../data/train/target_spot', '../data/train/spider_mites', '../data/train/mosaic_virus', '../data/train/northern_leaf_blight', '../data/train/isariopsis_leaf_spot', '../data/train/rust', '../data/train/leaf_blight', '../data/train/pests', '../data/train/leaf_scorch', '../data/train/red_rot', '../data/train/leaf_mold', '../data/train/brown_spot', '../data/train/mosaic_disease', '../data/train/citrus_greening', '../data/train/bacterial_wilt', '../data/train/nematode', '../data/train/bacterial_spot', '../data/train/yellow_leaf', '../data/train/gray_leaf_spot', '../data/train/black_measles', '../data/train/blast', '../data/train/green_mottle', '../data/train/gray_spot', '../data/train/alternaria_leaf_spot', '../data/train/bacterial_blight', '../data/train/phytophthora', '../data/train/scab', '../data/train/virus', '../data/train/black_rot', '../data/train/tungro', '../data/train/common_rust']\n",
      "Output folders: ['../data/modified/train/mosaic', '../data/modified/train/late_blight', '../data/modified/train/septoria_leaf_spot', '../data/modified/train/leaf_curl', '../data/modified/train/powdery_mildew', '../data/modified/train/healthy', '../data/modified/train/brown_streak_disease', '../data/modified/train/early_blight', '../data/modified/train/target_spot', '../data/modified/train/spider_mites', '../data/modified/train/mosaic_virus', '../data/modified/train/northern_leaf_blight', '../data/modified/train/isariopsis_leaf_spot', '../data/modified/train/rust', '../data/modified/train/leaf_blight', '../data/modified/train/pests', '../data/modified/train/leaf_scorch', '../data/modified/train/red_rot', '../data/modified/train/leaf_mold', '../data/modified/train/brown_spot', '../data/modified/train/mosaic_disease', '../data/modified/train/citrus_greening', '../data/modified/train/bacterial_wilt', '../data/modified/train/nematode', '../data/modified/train/bacterial_spot', '../data/modified/train/yellow_leaf', '../data/modified/train/gray_leaf_spot', '../data/modified/train/black_measles', '../data/modified/train/blast', '../data/modified/train/green_mottle', '../data/modified/train/gray_spot', '../data/modified/train/alternaria_leaf_spot', '../data/modified/train/bacterial_blight', '../data/modified/train/phytophthora', '../data/modified/train/scab', '../data/modified/train/virus', '../data/modified/train/black_rot', '../data/modified/train/tungro', '../data/modified/train/common_rust']\n"
     ]
    }
   ],
   "source": [
    "# not nessesary anymore but nice code snippet anyways \n",
    "'''\n",
    "# Define the base input and output directories\n",
    "base_input_directory = '../data/train'\n",
    "base_output_directory = '../data/modified/train'\n",
    "\n",
    "# Generate a list of input folders\n",
    "input_folders = [os.path.join(base_input_directory, name) for name in os.listdir(base_input_directory)\n",
    "                 if os.path.isdir(os.path.join(base_input_directory, name))]\n",
    "\n",
    "# Generate a corresponding list of output folders\n",
    "output_folders = [os.path.join(base_output_directory, os.path.basename(folder)) for folder in input_folders]\n",
    "\n",
    "# Print the generated input and output folders\n",
    "print(\"Input folders:\", input_folders)\n",
    "print(\"Output folders:\", output_folders)'''"
   ]
  },
  {
   "cell_type": "code",
   "execution_count": 100,
   "metadata": {},
   "outputs": [
    {
     "name": "stdout",
     "output_type": "stream",
     "text": [
      "Number of .jpg files: 10552\n",
      "Number of .jpg files: 301\n",
      "Number of .jpg files: 10853\n",
      "Number of .jpg files: 0\n"
     ]
    }
   ],
   "source": [
    "#check some of the numbers\n",
    "\n",
    "# Get the list of files\n",
    "file1 = list(Path('../data/train/mosaic_disease').glob('*.*'))\n",
    "file2 = list(Path('../data/train/mosaic_virus').glob('*.*'))\n",
    "file_mod = list(Path('../data/modified/train/mosaic_disease').glob('*.*'))\n",
    "file_mod_2 = list(Path('../data/modified/train/mosaic_virus').glob('*.*'))\n",
    "# Count the number of files\n",
    "n_file1 = len(file1)\n",
    "n_file2 = len(file2)\n",
    "n_file_mod1 = len(file_mod)\n",
    "n_file_mod2 = len(file_mod_2)\n",
    "\n",
    "print(\"Number of .jpg files:\", n_file1)\n",
    "print(\"Number of .jpg files:\", n_file2)\n",
    "print(\"Number of .jpg files:\", n_file_mod1)\n",
    "print(\"Number of .jpg files:\", n_file_mod2)"
   ]
  },
  {
   "cell_type": "code",
   "execution_count": 30,
   "metadata": {},
   "outputs": [],
   "source": [
    "file = '../data/modified/train/healthy/45443225-1327-4023-839b-dd4a6c3a6ccc___RS_HL 3532.out.jpg'\n",
    "\n",
    "#image = Image.open(file)"
   ]
  },
  {
   "cell_type": "code",
   "execution_count": 13,
   "metadata": {},
   "outputs": [
    {
     "data": {
      "text/plain": [
       "array([[[  5,   5,   2],\n",
       "        [  3,   3,   2],\n",
       "        [  0,   0,   0],\n",
       "        ...,\n",
       "        [  0,   0,   0],\n",
       "        [  1,   2,   1],\n",
       "        [  2,   2,   1]],\n",
       "\n",
       "       [[  4,   4,   2],\n",
       "        [  3,   3,   1],\n",
       "        [  0,   0,   0],\n",
       "        ...,\n",
       "        [  0,   0,   0],\n",
       "        [  1,   1,   1],\n",
       "        [  2,   2,   1]],\n",
       "\n",
       "       [[  3,   3,   2],\n",
       "        [  2,   2,   1],\n",
       "        [  0,   0,   0],\n",
       "        ...,\n",
       "        [  0,   0,   0],\n",
       "        [  1,   1,   0],\n",
       "        [  1,   2,   1]],\n",
       "\n",
       "       ...,\n",
       "\n",
       "       [[ 13,  10,   8],\n",
       "        [  9,   7,   6],\n",
       "        [  3,   3,   2],\n",
       "        ...,\n",
       "        [ 56,  45,  38],\n",
       "        [ 86,  69,  58],\n",
       "        [ 94,  75,  63]],\n",
       "\n",
       "       [[ 15,  11,   9],\n",
       "        [ 10,   7,   6],\n",
       "        [  3,   3,   2],\n",
       "        ...,\n",
       "        [ 60,  49,  41],\n",
       "        [ 98,  79,  66],\n",
       "        [110,  88,  74]],\n",
       "\n",
       "       [[ 16,  12,  10],\n",
       "        [ 11,   8,   6],\n",
       "        [  4,   3,   2],\n",
       "        ...,\n",
       "        [ 63,  51,  43],\n",
       "        [106,  85,  71],\n",
       "        [111,  89,  75]]], dtype=uint8)"
      ]
     },
     "execution_count": 13,
     "metadata": {},
     "output_type": "execute_result"
    }
   ],
   "source": [
    "import numpy as np \n",
    "\n",
    "np.array(image_rgb)"
   ]
  },
  {
   "cell_type": "code",
   "execution_count": null,
   "metadata": {},
   "outputs": [],
   "source": [
    "file = '../data/modified/train/mosaic/mosaic (3).out.jpg'"
   ]
  },
  {
   "cell_type": "code",
   "execution_count": null,
   "metadata": {},
   "outputs": [],
   "source": [
    "# Directory containing the images\n",
    "directory = '../data/modified/train/'\n",
    "\n",
    "# Walk through all directories and subdirectories\n",
    "for x in next(os.walk(directory))[1]:\n",
    "    for filename in os.listdir(directory + x):\n",
    "        # Construct the full file path\n",
    "        filepath = os.path.join(directory, x, filename)\n",
    "        \n",
    "        # Open the image\n",
    "        with Image.open(filepath) as img:\n",
    "            # Convert the image to RGB format (if not already)\n",
    "            rgb_img = img.convert('RGB')\n",
    "            \n",
    "            # Save the converted image, overwriting the original\n",
    "            rgb_img.save(filepath)"
   ]
  },
  {
   "cell_type": "code",
   "execution_count": 28,
   "metadata": {},
   "outputs": [
    {
     "name": "stdout",
     "output_type": "stream",
     "text": [
      "1 - Not recognized as an image.\n",
      "2 - Not recognized as an image.\n",
      "3 - Not recognized as an image.\n",
      "4 - Not recognized as an image.\n",
      "5 - Not recognized as an image.\n",
      "Total unidentified images encountered: 5\n",
      "List of unidentified files:\n",
      "../data/modified/train/healthy/45443225-1327-4023-839b-dd4a6c3a6ccc___RS_HL 3532.out.jpg\n",
      "../data/modified/train/healthy/0f4a982a-37e1-467b-bbad-8c77ebdf1956___RS_HL 5625.out.jpg\n",
      "../data/modified/train/green_mottle/3716704922.out.jpg\n",
      "../data/modified/train/gray_spot/IMG_20190727_150538.out.jpg\n",
      "../data/modified/train/black_rot/d234f0c4-532e-492a-b762-9fcee61ec691___FAM_B.Rot 0535.out.jpg\n"
     ]
    }
   ],
   "source": [
    "from PIL import Image, UnidentifiedImageError\n",
    "#check what images are throwing an error\n",
    "\n",
    "# Directory containing the images\n",
    "directory = '../data/modified/train/'\n",
    "n_unid = 0  # Counter for unidentified images\n",
    "unidentified_files = []  # List to store file paths causing UnidentifiedImageError\n",
    "\n",
    "\n",
    "# Walk through all directories and subdirectories\n",
    "for x in next(os.walk(directory))[1]:\n",
    "    for filename in os.listdir(directory + x):\n",
    "        # Construct the full file path\n",
    "        filepath = os.path.join(directory, x, filename)\n",
    "\n",
    "\n",
    "\n",
    "'''        \n",
    "        try:\n",
    "            # Open the image\n",
    "            with Image.open(filepath) as img:\n",
    "                # Convert the image to RGB format (if not already)\n",
    "                rgb_img = img.convert('RGB')\n",
    "                \n",
    "                # Save the converted image, overwriting the original\n",
    "                #rgb_img.save(filepath)\n",
    "\n",
    "        except UnidentifiedImageError:\n",
    "            n_unid += 1  # Increment the counter\n",
    "            unidentified_files.append(filepath)  # Append file path to the list\n",
    "            print(f\"{n_unid} - Not recognized as an image.\")\n",
    "            continue\n",
    "\n",
    "print(f\"Total unidentified images encountered: {n_unid}\")\n",
    "print(\"List of unidentified files:\")\n",
    "for file_path in unidentified_files:\n",
    "    print(file_path)\n",
    "'''"
   ]
  },
  {
   "cell_type": "code",
   "execution_count": 31,
   "metadata": {},
   "outputs": [
    {
     "data": {
      "text/plain": [
       "['../data/modified/train/healthy/45443225-1327-4023-839b-dd4a6c3a6ccc___RS_HL 3532.out.jpg',\n",
       " '../data/modified/train/healthy/0f4a982a-37e1-467b-bbad-8c77ebdf1956___RS_HL 5625.out.jpg',\n",
       " '../data/modified/train/green_mottle/3716704922.out.jpg',\n",
       " '../data/modified/train/gray_spot/IMG_20190727_150538.out.jpg',\n",
       " '../data/modified/train/black_rot/d234f0c4-532e-492a-b762-9fcee61ec691___FAM_B.Rot 0535.out.jpg']"
      ]
     },
     "execution_count": 31,
     "metadata": {},
     "output_type": "execute_result"
    }
   ],
   "source": [
    "unidentified_files"
   ]
  },
  {
   "cell_type": "code",
   "execution_count": 34,
   "metadata": {},
   "outputs": [
    {
     "name": "stdout",
     "output_type": "stream",
     "text": [
      "Deleting file: ../data/modified/train/healthy/45443225-1327-4023-839b-dd4a6c3a6ccc___RS_HL 3532.out.jpg\n",
      "File deleted successfully.\n",
      "Deleting file: ../data/modified/train/healthy/0f4a982a-37e1-467b-bbad-8c77ebdf1956___RS_HL 5625.out.jpg\n",
      "File deleted successfully.\n",
      "Deleting file: ../data/modified/train/green_mottle/3716704922.out.jpg\n",
      "File deleted successfully.\n",
      "Deleting file: ../data/modified/train/gray_spot/IMG_20190727_150538.out.jpg\n",
      "File deleted successfully.\n",
      "Deleting file: ../data/modified/train/black_rot/d234f0c4-532e-492a-b762-9fcee61ec691___FAM_B.Rot 0535.out.jpg\n",
      "File deleted successfully.\n"
     ]
    }
   ],
   "source": [
    "# Iterate through the list of unidentified files and delete each file\n",
    "for file_path in unidentified_files:\n",
    "    print(f\"Deleting file: {file_path}\")\n",
    "    os.remove(file_path)  # Attempt to remove the file\n",
    "    print(\"File deleted successfully.\")"
   ]
  },
  {
   "cell_type": "code",
   "execution_count": 35,
   "metadata": {},
   "outputs": [],
   "source": [
    "# Directory containing the images\n",
    "directory = '../data/modified/train/'\n",
    "\n",
    "# Walk through all directories and subdirectories\n",
    "for x in next(os.walk(directory))[1]:\n",
    "    for filename in os.listdir(directory + x):\n",
    "        # Construct the full file path\n",
    "        filepath = os.path.join(directory, x, filename)\n",
    "        \n",
    "        # Open the image\n",
    "        with Image.open(filepath) as img:\n",
    "            # Convert the image to RGB format (if not already)\n",
    "            rgb_img = img.convert('RGB')\n",
    "            \n",
    "            # Save the converted image, overwriting the original\n",
    "            rgb_img.save(filepath)"
   ]
  },
  {
   "cell_type": "markdown",
   "metadata": {},
   "source": [
    "#### Now the same for the test data"
   ]
  },
  {
   "cell_type": "code",
   "execution_count": null,
   "metadata": {},
   "outputs": [],
   "source": [
    "session = new_session()\n",
    "\n",
    "# Define the input directory\n",
    "input_directory_test = '../data/test/'\n",
    "\n",
    "# Define the output directory\n",
    "output_directory_test = '../data/modified/test/'\n",
    "\n",
    "# Walk through all directories and subdirectories\n",
    "for x in next(os.walk(input_directory))[1]:\n",
    "    for filename in os.listdir(os.path.join(input_directory, x)):\n",
    "        # Construct the full file path for input and output files\n",
    "        input_filepath = os.path.join(input_directory, x, filename)\n",
    "        output_filepath = os.path.join(output_directory, x, filename)\n",
    "        \n",
    "        # Ensure the output directory exists, if not, create it\n",
    "        os.makedirs(os.path.dirname(output_filepath), exist_ok=True)\n",
    "        \n",
    "        # Convert to Path objects for convenience\n",
    "        input_path = Path(input_filepath)\n",
    "        output_path = Path(output_filepath)\n",
    "        \n",
    "        # Check if the output file already exists\n",
    "        if output_path.is_file():\n",
    "            print(f\"Output file {output_path} already exists. Skipping...\")\n",
    "            continue\n",
    "        \n",
    "        # Open the input image\n",
    "        with open(input_filepath, 'rb') as input_file:\n",
    "            input_data = input_file.read()\n",
    "            # Perform your operation (e.g., using remove function)\n",
    "            output_data = remove(input_data, session=session)\n",
    "        \n",
    "        # Write the processed data to the output file\n",
    "        with open(output_filepath, 'wb') as output_file:\n",
    "            output_file.write(output_data)\n"
   ]
  },
  {
   "cell_type": "code",
   "execution_count": 48,
   "metadata": {},
   "outputs": [],
   "source": [
    "# Directory containing the images\n",
    "directory = '../data/modified/test/'\n",
    "\n",
    "# Walk through all directories and subdirectories\n",
    "for x in next(os.walk(directory))[1]:\n",
    "    for filename in os.listdir(directory + x):\n",
    "        # Construct the full file path\n",
    "        filepath = os.path.join(directory, x, filename)\n",
    "        \n",
    "        # Open the image\n",
    "        with Image.open(filepath) as img:\n",
    "            # Convert the image to RGB format (if not already)\n",
    "            rgb_img = img.convert('RGB')\n",
    "            \n",
    "            # Save the converted image, overwriting the original\n",
    "            rgb_img.save(filepath)"
   ]
  }
 ],
 "metadata": {
  "kernelspec": {
   "display_name": ".venv",
   "language": "python",
   "name": "python3"
  },
  "language_info": {
   "codemirror_mode": {
    "name": "ipython",
    "version": 3
   },
   "file_extension": ".py",
   "mimetype": "text/x-python",
   "name": "python",
   "nbconvert_exporter": "python",
   "pygments_lexer": "ipython3",
   "version": "3.11.3"
  }
 },
 "nbformat": 4,
 "nbformat_minor": 2
}
